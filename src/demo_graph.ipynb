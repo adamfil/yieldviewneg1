{
 "cells": [
  {
   "cell_type": "code",
   "execution_count": 2,
   "id": "b1b7c12f",
   "metadata": {},
   "outputs": [],
   "source": [
    "import geopandas as gpd\n",
    "import os\n",
    "import xarray as xr\n",
    "from urllib.request import urlopen\n",
    "import json"
   ]
  },
  {
   "cell_type": "code",
   "execution_count": 4,
   "id": "adab439c",
   "metadata": {},
   "outputs": [
    {
     "name": "stdout",
     "output_type": "stream",
     "text": [
      "13239 POLYGON ((-85.141831 31.839261, -85.114031 31.89336, -85.067829 31.967358, -85.0635905429847 31.991857, -85.042029 31.975658, -84.974067 31.950209, -84.907006 31.924465, -84.910338 31.776841, -84.95864 31.777854, -85.073941 31.771441, -85.1291593155832 31.7802782680766, -85.141831 31.839261))\n",
      "18111 POLYGON ((-87.5266481580824 41.1660899445116, -87.393796 41.162806, -87.275882 41.218595, -87.267298 40.736582, -87.5261364904237 40.7368850814229, -87.526014 40.895582, -87.526463234368 41.0103365222041, -87.52652 41.024837, -87.5266481580824 41.1660899445116))\n",
      "19053 POLYGON ((-94.014803 40.897031, -93.55654 40.898295, -93.5568966742717 40.5796594850605, -93.597352 40.579496, -93.7743442040303 40.5775304533911, -93.84093 40.576791, -94.015492 40.5740737070096, -94.014803 40.897031))\n",
      "24013 POLYGON ((-77.2170237552374 39.7202172483854, -76.9993180263332 39.7200676723526, -76.991062 39.720062, -76.7870971997576 39.7210481461113, -76.804304 39.675882, -76.8931 39.457402, -76.8873 39.440502, -76.873378 39.35715, -76.882274 39.350185, -77.101678 39.369296, -77.16808 39.353957, -77.107711 39.494556, -77.198024 39.57543, -77.307312 39.61887, -77.2170237552374 39.7202172483854))\n",
      "29155 POLYGON ((-89.96131 36.388803, -89.752147 36.386396, -89.728855 36.427504, -89.611308 36.411273, -89.5450313339691 36.344271398663, -89.600544 36.342985, -89.611819 36.309088, -89.554289 36.277751, -89.602374 36.238106, -89.678046 36.248284, -89.69263 36.224959, -89.6276414416754 36.185460316606, -89.623804 36.183128, -89.592102 36.135637, -89.64302 36.10362, -89.680029 36.082494, -89.692437 36.020507, -89.733095 36.000608, -89.901183 35.999365, -89.9593746319162 35.9990141141563, -89.96131 36.388803))\n"
     ]
    }
   ],
   "source": [
    "# Load the 'naturalearth_lowres' dataset that's bundled with Geopandas\n",
    "world = gpd.read_file(gpd.datasets.get_path('naturalearth_lowres'))\n",
    "\n",
    "# Filter the data for USA and then load US counties\n",
    "usa = world[world['name'] == \"United States of America\"]\n",
    "counties = gpd.read_file('https://www2.census.gov/geo/tiger/GENZ2021/shp/cb_2021_us_county_20m.zip')\n",
    "\n",
    "# Create a dictionary to store the polygons\n",
    "county_polygons = {}\n",
    "\n",
    "for _, row in counties.iterrows():\n",
    "    rma_code = row[\"STATEFP\"] + row[\"COUNTYFP\"]\n",
    "    county_polygons[rma_code] = row[\"geometry\"]\n",
    "\n",
    "# Print some sample data from the dictionary\n",
    "for key in list(county_polygons.keys())[:5]:\n",
    "    print(key, county_polygons[key])\n"
   ]
  },
  {
   "cell_type": "code",
   "execution_count": 4,
   "id": "968570e6",
   "metadata": {},
   "outputs": [],
   "source": [
    "mydir = os.getcwd() # would be the MAIN folder\n",
    "mydir_tmp = mydir + \"/datasets\" "
   ]
  },
  {
   "cell_type": "code",
   "execution_count": 9,
   "id": "1807586c",
   "metadata": {},
   "outputs": [
    {
     "name": "stdout",
     "output_type": "stream",
     "text": [
      "[268.67017 267.76068 272.93732 274.68646 284.96744 288.86008 293.94254\n",
      " 293.01898 285.6597  276.32626 269.01077 265.95612 265.70074 273.65204\n",
      " 272.5619  276.72308 285.97577 290.93524 293.09485 291.26562 282.4505\n",
      " 274.5877  273.53052 269.485   268.25238 265.68045 267.60376 280.39325\n",
      " 283.89035 290.14127 294.45862 290.5478  292.4685  280.9663  270.27542\n",
      " 269.50867 264.75958 271.80493 273.69098 276.9583  287.05835 290.45258\n",
      " 294.60748 294.0995  284.04932 281.6488  270.15564 268.36053 268.51447\n",
      " 271.3192  274.4049  277.45532 281.3642  292.16412 292.85962 291.55356\n",
      " 289.01944 281.95953 274.24524 268.46722 266.80792 273.0689  272.00485\n",
      " 277.508   283.1046  291.14496 294.67328 295.05978 290.45825 275.73737\n",
      " 273.02838 268.69623 271.8927  269.19543 274.08417 279.57697 283.9804\n",
      " 289.04776 292.83685 295.55273 285.61496 276.10443 273.93744 268.07617\n",
      " 269.02533 266.63495 273.88617 275.44635 284.67914 290.09955 293.97693\n",
      " 295.84845 288.2817  280.88837 272.6407  272.6474  267.14572 269.38837\n",
      " 272.20874 277.8018  284.35364 291.4447  291.77753 291.83203 285.2787\n",
      " 273.47153 270.39294 270.60577 266.9406  265.9615  271.4156  273.65137\n",
      " 284.9972  291.19766 290.75546 290.81042 284.56363 276.28662 274.8321\n",
      " 271.19452 265.0671  269.94174 272.20776 280.42285 285.63013 292.94476\n",
      " 293.47278 295.75848 288.02496 280.14133 273.88428 266.54025 267.3454\n",
      " 270.52197 276.38916 278.93304 281.66382 294.27618 295.47812 293.25803\n",
      " 287.2235  276.4612  272.8399  272.01263 268.737   268.74854 277.83453\n",
      " 280.02997 286.78613 290.51404 295.74292 292.46237 285.4717  278.64404\n",
      " 272.51752 272.24936 273.27267 270.30457 271.14102 279.09357 281.33966\n",
      " 292.98743 293.61203 291.58466 287.07794 275.78677 270.14166 271.39636\n",
      " 264.13568 271.46057 274.34137 276.4037  282.48578 292.70435 290.6572\n",
      " 291.39877 289.0645  279.82715 266.469   273.27283 265.69922 267.94125\n",
      " 273.20966 283.44354 283.6726  293.14874 294.2611  291.14978 285.95212\n",
      " 281.4333  274.95276 273.37592 269.69122 270.6702  276.26733 281.12378\n",
      " 283.32822 292.25253 294.97693 295.45084 287.3017  278.6161  274.60733\n",
      " 271.09772 268.406   275.67242 271.31042 278.6831  282.474   291.1844\n",
      " 294.2444  291.74115 287.41187 275.869   274.1919  272.16257 266.1137\n",
      " 273.9445  271.8087  277.85553 287.3576  291.32263 294.42773 293.8557\n",
      " 294.92914 279.5287  272.1918  271.98083 269.82846 275.2935  272.8919\n",
      " 279.1936  286.847   290.9269  293.29135 292.52478 291.06757 281.86664\n",
      " 271.0121  272.57245 270.3105  272.31958 274.0656  280.49304 282.99365\n",
      " 289.98407 295.59766 294.53076 284.14038 282.71802 276.13202 268.833\n",
      " 270.95215 271.06512 275.68518 275.44824 284.28937 292.00543 294.64938\n",
      " 295.2316  286.2345  281.2422  274.3365  274.15768 269.8634  272.35992\n",
      " 271.10376 277.40253 287.6676  293.61273 295.2154  294.81342 286.64117\n",
      " 275.22565 272.0857  264.64075]\n"
     ]
    }
   ],
   "source": [
    "\n",
    "# Initialize the master dictionary\n",
    "master = {}\n",
    "\n",
    "# Loop through all .nc files in the directory\n",
    "for filename in os.listdir(mydir_tmp)[:1]:\n",
    "    if filename.endswith(\".nc\"):\n",
    "        # Construct the full path to the file\n",
    "        filepath = os.path.join(mydir_tmp, filename)\n",
    "        \n",
    "        # Open the dataset\n",
    "        ds = xr.open_dataset(filepath)\n",
    "        \n",
    "        # Extract the values of 't2m'\n",
    "        t2m_values = ds['t2m'].values\n",
    "        \n",
    "        # Store the filename (without extension) as a key and the t2m values as its value in the master dictionary\n",
    "        key_name = os.path.splitext(filename)[0]  # get filename without extension\n",
    "        master[key_name] = t2m_values\n",
    "\n",
    "print((master['dataset_0']))\n",
    "\n"
   ]
  },
  {
   "cell_type": "code",
   "execution_count": 13,
   "id": "1e39e2b5",
   "metadata": {},
   "outputs": [
    {
     "name": "stdout",
     "output_type": "stream",
     "text": [
      "48089\n"
     ]
    }
   ],
   "source": [
    "print(list(county_polygons.keys())[20])"
   ]
  },
  {
   "cell_type": "code",
   "execution_count": 18,
   "id": "f2d9c1d5",
   "metadata": {},
   "outputs": [],
   "source": [
    "prop_master = {}\n",
    "for county_code in list(county_polygons.keys()):\n",
    "    if f\"dataset_{list(county_polygons.keys()).index(county_code)}\" in master.keys():\n",
    "        prop_master[county_code] = master[f\"dataset_{list(county_polygons.keys()).index(county_code)}\"]"
   ]
  },
  {
   "cell_type": "code",
   "execution_count": 28,
   "id": "8dc22ef5",
   "metadata": {},
   "outputs": [],
   "source": [
    "with urlopen('https://raw.githubusercontent.com/plotly/datasets/master/geojson-counties-fips.json') as response:\n",
    "    counties = json.load(response)"
   ]
  },
  {
   "cell_type": "code",
   "execution_count": 36,
   "id": "04d018d1",
   "metadata": {},
   "outputs": [
    {
     "name": "stdout",
     "output_type": "stream",
     "text": [
      "      FIPS  Temperature\n",
      "0    13239     0.974752\n",
      "1    18111     0.955577\n",
      "2    19053     0.955808\n",
      "3    24013     0.966432\n",
      "4    29155     0.951149\n",
      "..     ...          ...\n",
      "465  39031     0.952938\n",
      "466  48503     0.963809\n",
      "467  13159     0.963250\n",
      "468  13117     0.959266\n",
      "469  48243     0.971753\n",
      "\n",
      "[470 rows x 2 columns]\n"
     ]
    }
   ],
   "source": [
    "import plotly.express as px\n",
    "import pandas as pd\n",
    "\n",
    "# 1. Extract the most recent value from each array\n",
    "recent_values = {key: 2*val[-1]/(val[-13] + val[-25]) for key, val in prop_master.items()}\n",
    "\n",
    "# 2. Create a dataframe\n",
    "df = pd.DataFrame(list(recent_values.items()), columns=['FIPS', 'Temperature'])\n",
    "df['FIPS'] = df['FIPS'].astype(str)\n",
    "print(df)\n",
    "# 3. Plot the choropleth\n",
    "fig = px.choropleth(\n",
    "    df, \n",
    "    geojson=counties,\n",
    "    locations='FIPS',\n",
    "    color='Temperature',\n",
    "    color_continuous_scale=\"Viridis\",\n",
    "    scope=\"usa\",\n",
    "    hover_name=df.index\n",
    ")\n",
    "fig.update_geos(fitbounds=\"locations\", visible=True)\n",
    "fig.write_image(\"fig3.png\")\n",
    "\n"
   ]
  },
  {
   "cell_type": "code",
   "execution_count": null,
   "id": "65765d43",
   "metadata": {},
   "outputs": [],
   "source": []
  }
 ],
 "metadata": {
  "kernelspec": {
   "display_name": "Python 3 (ipykernel)",
   "language": "python",
   "name": "python3"
  },
  "language_info": {
   "codemirror_mode": {
    "name": "ipython",
    "version": 3
   },
   "file_extension": ".py",
   "mimetype": "text/x-python",
   "name": "python",
   "nbconvert_exporter": "python",
   "pygments_lexer": "ipython3",
   "version": "3.9.12"
  }
 },
 "nbformat": 4,
 "nbformat_minor": 5
}
